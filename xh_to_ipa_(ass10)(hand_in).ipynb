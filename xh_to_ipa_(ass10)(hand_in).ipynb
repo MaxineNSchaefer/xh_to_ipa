{
  "nbformat": 4,
  "nbformat_minor": 0,
  "metadata": {
    "colab": {
      "provenance": [],
      "authorship_tag": "ABX9TyO/qcYgSfI7Yy16183uMq4y",
      "include_colab_link": true
    },
    "kernelspec": {
      "name": "python3",
      "display_name": "Python 3"
    },
    "language_info": {
      "name": "python"
    }
  },
  "cells": [
    {
      "cell_type": "markdown",
      "metadata": {
        "id": "view-in-github",
        "colab_type": "text"
      },
      "source": [
        "<a href=\"https://colab.research.google.com/github/MaxineNSchaefer/xh_to_ipa/blob/main/xh_to_ipa_(ass10)(hand_in).ipynb\" target=\"_parent\"><img src=\"https://colab.research.google.com/assets/colab-badge.svg\" alt=\"Open In Colab\"/></a>"
      ]
    },
    {
      "cell_type": "code",
      "execution_count": null,
      "metadata": {
        "id": "Dg2gkLyfctE5",
        "colab": {
          "base_uri": "https://localhost:8080/"
        },
        "outputId": "956bdbcb-9797-4237-c106-b5eb8112afca"
      },
      "outputs": [
        {
          "output_type": "stream",
          "name": "stdout",
          "text": [
            "Type in a Xhosa word to get it's broad phonetic transcription. Note: this is a proof of concept. Choose from: \n",
            "dlala, hlala, iphepha, ipali\n",
            "iphepha\n",
            "ipʰɛpʰa"
          ]
        }
      ],
      "source": [
        "\"\"\" xh_to_ipa: a module which contains functions to \n",
        "convert Xhosa words to their broad International Phonetic Transcription by segmenting the \n",
        "orthographic word into it's graphemes, and converting graphemes to phonemes.\n",
        "This module relies on the transparent writing system of isiXhosa too convert graphemes to phonemes.\n",
        "This script is a proof of concept. Revisions included in TODO.\n",
        "\"\"\"\n",
        "\n",
        "def convert():\n",
        "  \"\"\"convert a Xhosa word to its broad International Phonetic Transcription\n",
        "  Load to orthography-phonology dictionary (hard-coded into the module); get words from user and tokenise them;\n",
        "  \"\"\"\n",
        "  xh_ipa = load_dct()\n",
        "  text_input = get_text_input()\n",
        "  graphemes = tokenise(text_input)\n",
        "  for grapheme in graphemes:\n",
        "    transcription = xh_ipa[grapheme]\n",
        "    print(transcription, end = \"\")\\\n",
        "\n",
        "\n",
        "def load_dct():\n",
        "  \"\"\" Use transcriptions from wikipedia: https://en.wikipedia.org/wiki/Xhosa_language\n",
        "  I only code some of the consonants for this example\n",
        "  TODO: place the dictionary in its own file\n",
        "  TODO: include all graphemes and phonemes\n",
        "  \"\"\"\n",
        "  xh_ipa = {\"a\":\"a\", \"e\":\"ɛ\", \"i\":\"i\", \"o\":\"ɔ\", \"u\":\"u\", \n",
        "          \"p\":\"p'\", \"ph\":\"pʰ\",\"hl\":\"ɬ\", \"dl\":\"ɮ̈\", \"l\":\"l\", \"m\":\"m\", \"n\":\"n\"}\n",
        "  return(xh_ipa)\n",
        "\n",
        "\n",
        "def get_text_input():\n",
        "  \"\"\" Ask user for a word\n",
        "  TODO: allow different input, such as sentences, or files\n",
        "  \"\"\"\n",
        "  text_input = input(\"Type in a Xhosa word to get it's broad phonetic transcription. Note: this is a proof of concept. Choose from: \\ndlala, hlala, iphepha, ipali\\n\")\n",
        "  return(text_input)\n",
        "\n",
        "\n",
        "def tokenise(text_input):\n",
        "  \"\"\" split up the word into consonants and vowels so that these orthographic units are parsed separately\n",
        "  There are many letter groups (esp. for consonants)\n",
        "  The code in this function is from Stackoverflow (https://stackoverflow.com/questions/61016943/split-string-at-vowel-surrounding-consonants ) \n",
        "  with some tweaks from ChatGPT, and edits by me to variables names.\n",
        "  \"\"\"\n",
        "  vowels = ['a','e','i','o','u']\n",
        "  consonants = \"\"\n",
        "  graphemes = []\n",
        "  for i in range(len(text_input)):\n",
        "    if text_input[i] not in vowels:\n",
        "        consonants += text_input[i]\n",
        "    else:\n",
        "        if consonants:\n",
        "          graphemes.append(consonants)\n",
        "          consonants = \"\"\n",
        "        graphemes.append(text_input[i])\n",
        "        # Add any remaining consonants\n",
        "  if consonants:\n",
        "    graphemes.append(consonants)\n",
        "  return graphemes\n",
        "\n",
        "if __name__ == \"__main__\": # this is the boilerplate\n",
        "  print(\"Script can only run as a package.\")"
      ]
    }
  ]
}